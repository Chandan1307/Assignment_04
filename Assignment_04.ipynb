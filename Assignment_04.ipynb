{
 "cells": [
  {
   "cell_type": "markdown",
   "id": "a6a3b0db-628e-46f0-9d0d-f8cc0f20dfdb",
   "metadata": {},
   "source": [
    "Q1. Which keyword is used to create a function? Create a function to return a list of odd numbers in the range of 1 to 25."
   ]
  },
  {
   "cell_type": "code",
   "execution_count": null,
   "id": "5a2a3e6b-a5cb-41d8-955f-90a3d828a9e7",
   "metadata": {},
   "outputs": [],
   "source": [
    "def odd_number():\n",
    "    odd_list =[]\n",
    "    for i in range(1,26):\n",
    "        if i%2 !=0:\n",
    "            odd_list.append(i)\n",
    "    return odd_list\n",
    "print(\"odd numbers:\", odd_number())"
   ]
  },
  {
   "cell_type": "markdown",
   "id": "527ff209-7d62-4a53-9043-497529c663a9",
   "metadata": {},
   "source": [
    "Q2. Why *args and **kwargs is used in some functions? Create a function each for *args and **kwargs\n",
    "to demonstrate their use."
   ]
  },
  {
   "cell_type": "markdown",
   "id": "9321f691-9de4-4ca9-8ac5-3506680dabc4",
   "metadata": {},
   "source": [
    "'''\n",
    "The syntax *args and **kwargs are used in function definitions to allow a function to accept a variable number of arguments. The *args syntax allows a function to accept any number of positional arguments, and the **kwargs syntax allows a function to accept any number of keyword arguments.\n",
    "'''"
   ]
  },
  {
   "cell_type": "code",
   "execution_count": null,
   "id": "ee1d3070-112e-49b7-8c37-7b99d5ab87b8",
   "metadata": {},
   "outputs": [],
   "source": [
    "def test_function(*args, **kwargs):\n",
    "    print(\"Positional arguments (using *args):\", args)\n",
    "    print(\"Keyword arguments (using **kwargs):\", kwargs)\n",
    "\n",
    "test_function(1, 2, 3, name=\"John\", age=25)"
   ]
  },
  {
   "cell_type": "markdown",
   "id": "24f136e4-85ac-47e1-b47e-c3a4dca1fba6",
   "metadata": {},
   "source": [
    "Q3. What is an iterator in python? Name the method used to initialise the iterator object and the method\n",
    "used for iteration. Use these methods to print the first five elements of the given list [2, 4, 6, 8, 10, 12, 14,\n",
    "16, 18, 20]."
   ]
  },
  {
   "cell_type": "markdown",
   "id": "2a1c0fd9-74de-44cb-8463-642170405c62",
   "metadata": {},
   "source": [
    "'''\n",
    "An iterator in Python is an object that implements the iterator protocol, which consists of the methods __iter__() and __next__(). The __iter__() method is used to initialize the iterator object, and the __next__() method is used for iteration.\n",
    "'''"
   ]
  },
  {
   "cell_type": "code",
   "execution_count": null,
   "id": "9d95df6a-847c-4f53-a2dc-b87ac370aa2c",
   "metadata": {},
   "outputs": [],
   "source": [
    "list1 = [2, 4, 6, 8, 10, 12, 14, 16, 18, 20]\n",
    "\n",
    "# Initializing iterator object\n",
    "it = iter(list1)\n",
    "\n",
    "# Iterating over the list\n",
    "print(\"The first five elements of the list are:\")\n",
    "for i in range(5):\n",
    "    print(next(it))"
   ]
  },
  {
   "cell_type": "markdown",
   "id": "ad0f15c4-def7-42e4-be93-0702318e0b2d",
   "metadata": {},
   "source": [
    "Q4. What is a generator function in python? Why yield keyword is used? Give an example of a generator\n",
    "function."
   ]
  },
  {
   "cell_type": "markdown",
   "id": "ac26916a-1c4f-4d47-9ada-bc3d15ffc5c7",
   "metadata": {},
   "source": [
    "# Answer\n",
    "'''\n",
    "A generator function in Python is a special type of function that returns a generator iterator, which can be used to iterate over a series of values. The key difference between a normal function and a generator function is that a generator function uses the yield keyword to return a value, instead of using the return keyword.\n",
    "\n",
    "The yield keyword is used in a generator function to produce a value, which can be later retrieved by calling the next() method on the generator iterator. This makes the generator function more memory-efficient, as it only generates values one at a time, instead of generating all values at once like a normal function.\n",
    "'''"
   ]
  },
  {
   "cell_type": "code",
   "execution_count": null,
   "id": "0a390fba-9f1e-4c8d-b533-7c969181960f",
   "metadata": {},
   "outputs": [],
   "source": [
    "# Example\n",
    "def test_fib(n):\n",
    "    a,b=0,1\n",
    "    for i in range(n):\n",
    "        yield a\n",
    "        a,b= b,a+b"
   ]
  },
  {
   "cell_type": "code",
   "execution_count": null,
   "id": "57d305fe-e4d6-4805-8140-c9f0db31f6cf",
   "metadata": {},
   "outputs": [],
   "source": [
    "test_fib(10)"
   ]
  },
  {
   "cell_type": "code",
   "execution_count": null,
   "id": "870a0fdf-85b2-4ab6-b633-119aa1801c32",
   "metadata": {},
   "outputs": [],
   "source": [
    "for i in test_fib(10):\n",
    "    print(i)"
   ]
  },
  {
   "cell_type": "markdown",
   "id": "a09f8480-b198-4c71-bab7-2254257c72e5",
   "metadata": {},
   "source": [
    "Q5. Create a generator function for prime numbers less than 1000. Use the next() method to print the\n",
    "first 20 prime numbers."
   ]
  },
  {
   "cell_type": "code",
   "execution_count": null,
   "id": "0a47cc25-04b8-4a38-b6a8-2691bde8bf43",
   "metadata": {},
   "outputs": [],
   "source": [
    "def prime_numbers():\n",
    "    yield 2\n",
    "    primes = [2]\n",
    "    for num in range(3, 1000):\n",
    "        is_prime = True\n",
    "        for prime in primes:\n",
    "            if num % prime == 0:\n",
    "                is_prime = False\n",
    "                break\n",
    "        if is_prime:\n",
    "            primes.append(num)\n",
    "            yield num\n",
    "\n",
    "prime_gen = prime_numbers()\n",
    "print(\"First 20 prime numbers:\")\n",
    "for i in range(20):\n",
    "    print(next(prime_gen))    "
   ]
  },
  {
   "cell_type": "markdown",
   "id": "a79efbe6-8352-4856-86d6-509248762a65",
   "metadata": {},
   "source": [
    "Q6. Write a python program to print the first 10 Fibonacci numbers using a while loop."
   ]
  },
  {
   "cell_type": "code",
   "execution_count": null,
   "id": "b070e156-5ab0-41ea-ac9a-bc9871809612",
   "metadata": {},
   "outputs": [],
   "source": [
    "n = 10\n",
    "a,b = 0,1\n",
    "counter = 0\n",
    "while counter < n:\n",
    "    print (a)\n",
    "    c = a+b\n",
    "    a = b\n",
    "    b = c\n",
    "    counter = counter + 1"
   ]
  },
  {
   "cell_type": "markdown",
   "id": "86fd3b14-b0c3-449e-bd0a-e6dfa80c64eb",
   "metadata": {},
   "source": [
    "Q7. Write a List Comprehension to iterate through the given string: ‘pwskills’.\n",
    "Expected output: ['p', 'w', 's', 'k', 'i', 'l', 'l', 's']"
   ]
  },
  {
   "cell_type": "code",
   "execution_count": null,
   "id": "4ad3bd0f-43e3-4114-8d75-10ebb286c46b",
   "metadata": {},
   "outputs": [],
   "source": [
    "string = \"pwskills\""
   ]
  },
  {
   "cell_type": "code",
   "execution_count": null,
   "id": "b82bc7f0-58fc-4f53-bfce-a46d81b211c1",
   "metadata": {},
   "outputs": [],
   "source": [
    "[char for char in string]"
   ]
  },
  {
   "cell_type": "markdown",
   "id": "2acac8d1-70cf-40e2-bd67-4874cbb8fde9",
   "metadata": {},
   "source": [
    "Q8. Write a python program to check whether a given number is Palindrome or not using a while loop."
   ]
  },
  {
   "cell_type": "markdown",
   "id": "2fcff260-7430-4778-befc-f02b293e5f4c",
   "metadata": {},
   "source": [
    "The program first takes the input number and stores it in the variable n. Then it initializes a variable reverse to store the reverse of the number, and a variable original to store the original number for comparison later.\n",
    "\n",
    "The while loop runs until n is equal to 0. In each iteration, the last digit of n is extracted by taking the remainder when divided by 10, and this digit is added to reverse by first multiplying it by 10 and then adding the extracted digit. The n is then updated by taking the integer division of n by 10 to remove the last digit.\n",
    "\n",
    "Finally, the program compares the original number with the reverse of the number, and if they are equal, the number is a palindrome. If not, the number is not a palindrome.\n"
   ]
  },
  {
   "cell_type": "code",
   "execution_count": 1,
   "id": "4548f1f2-8581-4746-a676-12a06513ba9b",
   "metadata": {},
   "outputs": [
    {
     "name": "stdin",
     "output_type": "stream",
     "text": [
      "Enter the number:  1221\n"
     ]
    },
    {
     "name": "stdout",
     "output_type": "stream",
     "text": [
      "The number is a palindrome.\n"
     ]
    }
   ],
   "source": [
    "n = int(input(\"Enter the number: \"))\n",
    "original = n\n",
    "reverse = 0\n",
    "while n != 0:\n",
    "    a = n % 10\n",
    "    reverse = reverse * 10 + a\n",
    "    n = n // 10\n",
    "if original == reverse:\n",
    "    print(\"The number is a palindrome.\")\n",
    "else:\n",
    "    print(\"The number is not a palindrome.\")"
   ]
  },
  {
   "cell_type": "markdown",
   "id": "73722c90-bf15-4d1b-9416-b022c282f310",
   "metadata": {},
   "source": [
    "Q9. Write a code to print odd numbers from 1 to 100 using list comprehension."
   ]
  },
  {
   "cell_type": "code",
   "execution_count": 2,
   "id": "407f1572-21d6-4574-a898-7a2e317254f6",
   "metadata": {},
   "outputs": [],
   "source": [
    "odd_numbers = [x for x in range(1,101) if x % 2 !=0 ]"
   ]
  },
  {
   "cell_type": "code",
   "execution_count": 3,
   "id": "27f9dc5d-4f57-459d-a799-83386e08f77a",
   "metadata": {},
   "outputs": [
    {
     "name": "stdout",
     "output_type": "stream",
     "text": [
      "[1, 3, 5, 7, 9, 11, 13, 15, 17, 19, 21, 23, 25, 27, 29, 31, 33, 35, 37, 39, 41, 43, 45, 47, 49, 51, 53, 55, 57, 59, 61, 63, 65, 67, 69, 71, 73, 75, 77, 79, 81, 83, 85, 87, 89, 91, 93, 95, 97, 99]\n"
     ]
    }
   ],
   "source": [
    "print(odd_numbers)"
   ]
  }
 ],
 "metadata": {
  "kernelspec": {
   "display_name": "Python 3 (ipykernel)",
   "language": "python",
   "name": "python3"
  },
  "language_info": {
   "codemirror_mode": {
    "name": "ipython",
    "version": 3
   },
   "file_extension": ".py",
   "mimetype": "text/x-python",
   "name": "python",
   "nbconvert_exporter": "python",
   "pygments_lexer": "ipython3",
   "version": "3.10.8"
  }
 },
 "nbformat": 4,
 "nbformat_minor": 5
}
